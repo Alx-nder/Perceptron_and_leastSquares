{
 "cells": [
  {
   "cell_type": "code",
   "execution_count": 13,
   "metadata": {},
   "outputs": [],
   "source": [
    "import numpy as np\n",
    "import pandas as pd\n",
    "import matplotlib.pyplot as plt\n",
    "from sklearn.preprocessing import StandardScaler\n",
    "\n",
    "\n",
    "target=[1,2,3]\n",
    "feature=[3,4]\n",
    "names={'0':'setosa','1':'versicolor','2':'virginica'}\n",
    "\n",
    "feature=[f-1 for f in feature]\n",
    "feature.append(-1)\n",
    "\n",
    "df=pd.read_excel(\"Proj1DataSet.xlsx\")\n",
    "\n",
    "scaler=StandardScaler()\n",
    "# add offset and drop species to get feature variables fv or X\n",
    "species=df.species\n",
    "df.drop(columns='species',inplace=True)\n",
    "\n",
    "# scale data\n",
    "df_scaled=scaler.fit_transform(df)\n",
    "df = pd.DataFrame(df_scaled, columns=df.columns)\n",
    "\n",
    "\n",
    "# add offset and drop species to get feature variables fv or X\n",
    "df=df.assign(species=species.values.tolist())\n",
    "df=df.assign(offset=[1]*df.shape[0])\n",
    "\n",
    "\n",
    "needed_features = [df.columns[x] for x in feature ]\n",
    "\n",
    "class_size=df.loc[df.species==df.species.unique()[0]].shape[0]\n",
    "\n",
    "# target vector ... order matters\n",
    "if target[0]==1:\n",
    "    t=[0]*class_size + [1]*(df.shape[0]-class_size)\n",
    "elif target[0]==2:\n",
    "    t=[1]*class_size + [0]*class_size +[1]*class_size\n",
    "elif target[0]==3:\n",
    "    t= [1]*(df.shape[0]-class_size)+ [0]*class_size\n",
    "\n"
   ]
  },
  {
   "cell_type": "code",
   "execution_count": 14,
   "metadata": {},
   "outputs": [
    {
     "data": {
      "text/plain": [
       "[[-1.3402265266227624, -1.3154442950077403, 1.0],\n",
       " [-1.3402265266227624, -1.3154442950077403, 1.0],\n",
       " [-1.3970639535363654, -1.3154442950077403, 1.0],\n",
       " [-1.2833890997091593, -1.3154442950077403, 1.0],\n",
       " [-1.3402265266227624, -1.3154442950077403, 1.0],\n",
       " [-1.1697142458819532, -1.0521799264271385, 1.0],\n",
       " [-1.3402265266227624, -1.1838121107174393, 1.0],\n",
       " [-1.2833890997091593, -1.3154442950077403, 1.0],\n",
       " [-1.3402265266227624, -1.3154442950077403, 1.0],\n",
       " [-1.2833890997091593, -1.4470764792980408, 1.0],\n",
       " [-1.2833890997091593, -1.3154442950077403, 1.0],\n",
       " [-1.226551672795556, -1.3154442950077403, 1.0],\n",
       " [-1.3402265266227624, -1.4470764792980408, 1.0],\n",
       " [-1.5107388073635717, -1.4470764792980408, 1.0],\n",
       " [-1.4539013804499687, -1.3154442950077403, 1.0],\n",
       " [-1.2833890997091593, -1.0521799264271385, 1.0],\n",
       " [-1.3970639535363654, -1.0521799264271385, 1.0],\n",
       " [-1.3402265266227624, -1.1838121107174393, 1.0],\n",
       " [-1.1697142458819532, -1.1838121107174393, 1.0],\n",
       " [-1.2833890997091593, -1.1838121107174393, 1.0],\n",
       " [-1.1697142458819532, -1.3154442950077403, 1.0],\n",
       " [-1.2833890997091593, -1.0521799264271385, 1.0],\n",
       " [-1.567576234277175, -1.3154442950077403, 1.0],\n",
       " [-1.1697142458819532, -0.9205477421368377, 1.0],\n",
       " [-1.0560393920547466, -1.3154442950077403, 1.0],\n",
       " [-1.226551672795556, -1.3154442950077403, 1.0],\n",
       " [-1.226551672795556, -1.0521799264271385, 1.0],\n",
       " [-1.2833890997091593, -1.3154442950077403, 1.0],\n",
       " [-1.3402265266227624, -1.3154442950077403, 1.0],\n",
       " [-1.226551672795556, -1.3154442950077403, 1.0],\n",
       " [-1.226551672795556, -1.3154442950077403, 1.0],\n",
       " [-1.2833890997091593, -1.0521799264271385, 1.0],\n",
       " [-1.2833890997091593, -1.4470764792980408, 1.0],\n",
       " [-1.3402265266227624, -1.3154442950077403, 1.0],\n",
       " [-1.2833890997091593, -1.3154442950077403, 1.0],\n",
       " [-1.4539013804499687, -1.3154442950077403, 1.0],\n",
       " [-1.3970639535363654, -1.3154442950077403, 1.0],\n",
       " [-1.3402265266227624, -1.4470764792980408, 1.0],\n",
       " [-1.3970639535363654, -1.3154442950077403, 1.0],\n",
       " [-1.2833890997091593, -1.3154442950077403, 1.0],\n",
       " [-1.3970639535363654, -1.1838121107174393, 1.0],\n",
       " [-1.3970639535363654, -1.1838121107174393, 1.0],\n",
       " [-1.3970639535363654, -1.3154442950077403, 1.0],\n",
       " [-1.226551672795556, -0.7889155578465368, 1.0],\n",
       " [-1.0560393920547466, -1.0521799264271385, 1.0],\n",
       " [-1.3402265266227624, -1.1838121107174393, 1.0],\n",
       " [-1.226551672795556, -1.3154442950077403, 1.0],\n",
       " [-1.3402265266227624, -1.3154442950077403, 1.0],\n",
       " [-1.2833890997091593, -1.3154442950077403, 1.0],\n",
       " [-1.3402265266227624, -1.3154442950077403, 1.0],\n",
       " [0.5354085615261415, 0.26414191647586993, 1.0],\n",
       " [0.4217337076989351, 0.3957741007661709, 1.0],\n",
       " [0.6490834153533479, 0.3957741007661709, 1.0],\n",
       " [0.13754657313091936, 0.13250973218556925, 1.0],\n",
       " [0.47857113461253803, 0.3957741007661709, 1.0],\n",
       " [0.4217337076989351, 0.13250973218556925, 1.0],\n",
       " [0.5354085615261415, 0.5274062850564719, 1.0],\n",
       " [-0.26031541526430274, -0.26238682068533337, 1.0],\n",
       " [0.47857113461253803, 0.13250973218556925, 1.0],\n",
       " [0.08070914621731616, 0.26414191647586993, 1.0],\n",
       " [-0.14664056143709636, -0.26238682068533337, 1.0],\n",
       " [0.2512214269581257, 0.3957741007661709, 1.0],\n",
       " [0.13754657313091936, -0.26238682068533337, 1.0],\n",
       " [0.5354085615261415, 0.26414191647586993, 1.0],\n",
       " [-0.08980313452349317, 0.13250973218556925, 1.0],\n",
       " [0.36489628078533215, 0.26414191647586993, 1.0],\n",
       " [0.4217337076989351, 0.3957741007661709, 1.0],\n",
       " [0.1943840000445223, -0.26238682068533337, 1.0],\n",
       " [0.4217337076989351, 0.3957741007661709, 1.0],\n",
       " [0.08070914621731616, -0.1307546363950324, 1.0],\n",
       " [0.5922459884397444, 0.7906706536370736, 1.0],\n",
       " [0.13754657313091936, 0.13250973218556925, 1.0],\n",
       " [0.6490834153533479, 0.3957741007661709, 1.0],\n",
       " [0.5354085615261415, 0.0008775478952682834, 1.0],\n",
       " [0.30805885387172866, 0.13250973218556925, 1.0],\n",
       " [0.36489628078533215, 0.26414191647586993, 1.0],\n",
       " [0.5922459884397444, 0.26414191647586993, 1.0],\n",
       " [0.7059208422669508, 0.6590384693467726, 1.0],\n",
       " [0.4217337076989351, 0.3957741007661709, 1.0],\n",
       " [-0.14664056143709636, -0.26238682068533337, 1.0],\n",
       " [0.023871719303712964, -0.1307546363950324, 1.0],\n",
       " [-0.032965707609889976, -0.26238682068533337, 1.0],\n",
       " [0.08070914621731616, 0.0008775478952682834, 1.0],\n",
       " [0.7627582691805538, 0.5274062850564719, 1.0],\n",
       " [0.4217337076989351, 0.3957741007661709, 1.0],\n",
       " [0.4217337076989351, 0.5274062850564719, 1.0],\n",
       " [0.5354085615261415, 0.3957741007661709, 1.0],\n",
       " [0.36489628078533215, 0.13250973218556925, 1.0],\n",
       " [0.1943840000445223, 0.13250973218556925, 1.0],\n",
       " [0.13754657313091936, 0.13250973218556925, 1.0],\n",
       " [0.36489628078533215, 0.0008775478952682834, 1.0],\n",
       " [0.47857113461253803, 0.26414191647586993, 1.0],\n",
       " [0.13754657313091936, 0.0008775478952682834, 1.0],\n",
       " [-0.26031541526430274, -0.26238682068533337, 1.0],\n",
       " [0.2512214269581257, 0.13250973218556925, 1.0],\n",
       " [0.2512214269581257, 0.0008775478952682834, 1.0],\n",
       " [0.2512214269581257, 0.13250973218556925, 1.0],\n",
       " [0.30805885387172866, 0.13250973218556925, 1.0],\n",
       " [-0.4308276960051121, -0.1307546363950324, 1.0],\n",
       " [0.1943840000445223, 0.13250973218556925, 1.0],\n",
       " [1.2742951114029821, 1.7120959436691794, 1.0],\n",
       " [0.7627582691805538, 0.9223028379273742, 1.0],\n",
       " [1.2174576844893792, 1.185567206507976, 1.0],\n",
       " [1.0469454037485695, 0.7906706536370736, 1.0],\n",
       " [1.1606202575757758, 1.317199390798277, 1.0],\n",
       " [1.6153196728846009, 1.185567206507976, 1.0],\n",
       " [0.4217337076989351, 0.6590384693467726, 1.0],\n",
       " [1.4448073921437916, 0.7906706536370736, 1.0],\n",
       " [1.1606202575757758, 0.7906706536370736, 1.0],\n",
       " [1.331132538316585, 1.7120959436691794, 1.0],\n",
       " [0.7627582691805538, 1.053935022217675, 1.0],\n",
       " [0.8764331230077601, 0.9223028379273742, 1.0],\n",
       " [0.9901079768349665, 1.185567206507976, 1.0],\n",
       " [0.7059208422669508, 1.053935022217675, 1.0],\n",
       " [0.7627582691805538, 1.5804637593788784, 1.0],\n",
       " [0.8764331230077601, 1.4488315750885774, 1.0],\n",
       " [0.9901079768349665, 0.7906706536370736, 1.0],\n",
       " [1.6721570997982043, 1.317199390798277, 1.0],\n",
       " [1.7858319536254108, 1.4488315750885774, 1.0],\n",
       " [0.7059208422669508, 0.3957741007661709, 1.0],\n",
       " [1.1037828306621729, 1.4488315750885774, 1.0],\n",
       " [0.6490834153533479, 1.053935022217675, 1.0],\n",
       " [1.6721570997982043, 1.053935022217675, 1.0],\n",
       " [0.6490834153533479, 0.7906706536370736, 1.0],\n",
       " [1.1037828306621729, 1.185567206507976, 1.0],\n",
       " [1.2742951114029821, 0.7906706536370736, 1.0],\n",
       " [0.5922459884397444, 0.7906706536370736, 1.0],\n",
       " [0.6490834153533479, 0.7906706536370736, 1.0],\n",
       " [1.0469454037485695, 1.185567206507976, 1.0],\n",
       " [1.1606202575757758, 0.5274062850564719, 1.0],\n",
       " [1.331132538316585, 0.9223028379273742, 1.0],\n",
       " [1.501644819057395, 1.053935022217675, 1.0],\n",
       " [1.0469454037485695, 1.317199390798277, 1.0],\n",
       " [0.7627582691805538, 0.3957741007661709, 1.0],\n",
       " [1.0469454037485695, 0.26414191647586993, 1.0],\n",
       " [1.331132538316585, 1.4488315750885774, 1.0],\n",
       " [1.0469454037485695, 1.5804637593788784, 1.0],\n",
       " [0.9901079768349665, 0.7906706536370736, 1.0],\n",
       " [0.5922459884397444, 0.7906706536370736, 1.0],\n",
       " [0.9332705499213636, 1.185567206507976, 1.0],\n",
       " [1.0469454037485695, 1.5804637593788784, 1.0],\n",
       " [0.7627582691805538, 1.4488315750885774, 1.0],\n",
       " [0.7627582691805538, 0.9223028379273742, 1.0],\n",
       " [1.2174576844893792, 1.4488315750885774, 1.0],\n",
       " [1.1037828306621729, 1.7120959436691794, 1.0],\n",
       " [0.8195956960941572, 1.4488315750885774, 1.0],\n",
       " [0.7059208422669508, 0.9223028379273742, 1.0],\n",
       " [0.8195956960941572, 1.053935022217675, 1.0],\n",
       " [0.9332705499213636, 1.4488315750885774, 1.0],\n",
       " [0.7627582691805538, 0.7906706536370736, 1.0]]"
      ]
     },
     "execution_count": 14,
     "metadata": {},
     "output_type": "execute_result"
    }
   ],
   "source": [
    "# feature vectors fv or X extracted from dataframe\n",
    "fv=df[needed_features].values.tolist()\n",
    "fv"
   ]
  },
  {
   "cell_type": "code",
   "execution_count": 15,
   "metadata": {},
   "outputs": [
    {
     "data": {
      "text/plain": [
       "array([[-1.34022653e+00, -1.34022653e+00, -1.39706395e+00,\n",
       "        -1.28338910e+00, -1.34022653e+00, -1.16971425e+00,\n",
       "        -1.34022653e+00, -1.28338910e+00, -1.34022653e+00,\n",
       "        -1.28338910e+00, -1.28338910e+00, -1.22655167e+00,\n",
       "        -1.34022653e+00, -1.51073881e+00, -1.45390138e+00,\n",
       "        -1.28338910e+00, -1.39706395e+00, -1.34022653e+00,\n",
       "        -1.16971425e+00, -1.28338910e+00, -1.16971425e+00,\n",
       "        -1.28338910e+00, -1.56757623e+00, -1.16971425e+00,\n",
       "        -1.05603939e+00, -1.22655167e+00, -1.22655167e+00,\n",
       "        -1.28338910e+00, -1.34022653e+00, -1.22655167e+00,\n",
       "        -1.22655167e+00, -1.28338910e+00, -1.28338910e+00,\n",
       "        -1.34022653e+00, -1.28338910e+00, -1.45390138e+00,\n",
       "        -1.39706395e+00, -1.34022653e+00, -1.39706395e+00,\n",
       "        -1.28338910e+00, -1.39706395e+00, -1.39706395e+00,\n",
       "        -1.39706395e+00, -1.22655167e+00, -1.05603939e+00,\n",
       "        -1.34022653e+00, -1.22655167e+00, -1.34022653e+00,\n",
       "        -1.28338910e+00, -1.34022653e+00,  5.35408562e-01,\n",
       "         4.21733708e-01,  6.49083415e-01,  1.37546573e-01,\n",
       "         4.78571135e-01,  4.21733708e-01,  5.35408562e-01,\n",
       "        -2.60315415e-01,  4.78571135e-01,  8.07091462e-02,\n",
       "        -1.46640561e-01,  2.51221427e-01,  1.37546573e-01,\n",
       "         5.35408562e-01, -8.98031345e-02,  3.64896281e-01,\n",
       "         4.21733708e-01,  1.94384000e-01,  4.21733708e-01,\n",
       "         8.07091462e-02,  5.92245988e-01,  1.37546573e-01,\n",
       "         6.49083415e-01,  5.35408562e-01,  3.08058854e-01,\n",
       "         3.64896281e-01,  5.92245988e-01,  7.05920842e-01,\n",
       "         4.21733708e-01, -1.46640561e-01,  2.38717193e-02,\n",
       "        -3.29657076e-02,  8.07091462e-02,  7.62758269e-01,\n",
       "         4.21733708e-01,  4.21733708e-01,  5.35408562e-01,\n",
       "         3.64896281e-01,  1.94384000e-01,  1.37546573e-01,\n",
       "         3.64896281e-01,  4.78571135e-01,  1.37546573e-01,\n",
       "        -2.60315415e-01,  2.51221427e-01,  2.51221427e-01,\n",
       "         2.51221427e-01,  3.08058854e-01, -4.30827696e-01,\n",
       "         1.94384000e-01,  1.27429511e+00,  7.62758269e-01,\n",
       "         1.21745768e+00,  1.04694540e+00,  1.16062026e+00,\n",
       "         1.61531967e+00,  4.21733708e-01,  1.44480739e+00,\n",
       "         1.16062026e+00,  1.33113254e+00,  7.62758269e-01,\n",
       "         8.76433123e-01,  9.90107977e-01,  7.05920842e-01,\n",
       "         7.62758269e-01,  8.76433123e-01,  9.90107977e-01,\n",
       "         1.67215710e+00,  1.78583195e+00,  7.05920842e-01,\n",
       "         1.10378283e+00,  6.49083415e-01,  1.67215710e+00,\n",
       "         6.49083415e-01,  1.10378283e+00,  1.27429511e+00,\n",
       "         5.92245988e-01,  6.49083415e-01,  1.04694540e+00,\n",
       "         1.16062026e+00,  1.33113254e+00,  1.50164482e+00,\n",
       "         1.04694540e+00,  7.62758269e-01,  1.04694540e+00,\n",
       "         1.33113254e+00,  1.04694540e+00,  9.90107977e-01,\n",
       "         5.92245988e-01,  9.33270550e-01,  1.04694540e+00,\n",
       "         7.62758269e-01,  7.62758269e-01,  1.21745768e+00,\n",
       "         1.10378283e+00,  8.19595696e-01,  7.05920842e-01,\n",
       "         8.19595696e-01,  9.33270550e-01,  7.62758269e-01],\n",
       "       [-1.31544430e+00, -1.31544430e+00, -1.31544430e+00,\n",
       "        -1.31544430e+00, -1.31544430e+00, -1.05217993e+00,\n",
       "        -1.18381211e+00, -1.31544430e+00, -1.31544430e+00,\n",
       "        -1.44707648e+00, -1.31544430e+00, -1.31544430e+00,\n",
       "        -1.44707648e+00, -1.44707648e+00, -1.31544430e+00,\n",
       "        -1.05217993e+00, -1.05217993e+00, -1.18381211e+00,\n",
       "        -1.18381211e+00, -1.18381211e+00, -1.31544430e+00,\n",
       "        -1.05217993e+00, -1.31544430e+00, -9.20547742e-01,\n",
       "        -1.31544430e+00, -1.31544430e+00, -1.05217993e+00,\n",
       "        -1.31544430e+00, -1.31544430e+00, -1.31544430e+00,\n",
       "        -1.31544430e+00, -1.05217993e+00, -1.44707648e+00,\n",
       "        -1.31544430e+00, -1.31544430e+00, -1.31544430e+00,\n",
       "        -1.31544430e+00, -1.44707648e+00, -1.31544430e+00,\n",
       "        -1.31544430e+00, -1.18381211e+00, -1.18381211e+00,\n",
       "        -1.31544430e+00, -7.88915558e-01, -1.05217993e+00,\n",
       "        -1.18381211e+00, -1.31544430e+00, -1.31544430e+00,\n",
       "        -1.31544430e+00, -1.31544430e+00,  2.64141916e-01,\n",
       "         3.95774101e-01,  3.95774101e-01,  1.32509732e-01,\n",
       "         3.95774101e-01,  1.32509732e-01,  5.27406285e-01,\n",
       "        -2.62386821e-01,  1.32509732e-01,  2.64141916e-01,\n",
       "        -2.62386821e-01,  3.95774101e-01, -2.62386821e-01,\n",
       "         2.64141916e-01,  1.32509732e-01,  2.64141916e-01,\n",
       "         3.95774101e-01, -2.62386821e-01,  3.95774101e-01,\n",
       "        -1.30754636e-01,  7.90670654e-01,  1.32509732e-01,\n",
       "         3.95774101e-01,  8.77547895e-04,  1.32509732e-01,\n",
       "         2.64141916e-01,  2.64141916e-01,  6.59038469e-01,\n",
       "         3.95774101e-01, -2.62386821e-01, -1.30754636e-01,\n",
       "        -2.62386821e-01,  8.77547895e-04,  5.27406285e-01,\n",
       "         3.95774101e-01,  5.27406285e-01,  3.95774101e-01,\n",
       "         1.32509732e-01,  1.32509732e-01,  1.32509732e-01,\n",
       "         8.77547895e-04,  2.64141916e-01,  8.77547895e-04,\n",
       "        -2.62386821e-01,  1.32509732e-01,  8.77547895e-04,\n",
       "         1.32509732e-01,  1.32509732e-01, -1.30754636e-01,\n",
       "         1.32509732e-01,  1.71209594e+00,  9.22302838e-01,\n",
       "         1.18556721e+00,  7.90670654e-01,  1.31719939e+00,\n",
       "         1.18556721e+00,  6.59038469e-01,  7.90670654e-01,\n",
       "         7.90670654e-01,  1.71209594e+00,  1.05393502e+00,\n",
       "         9.22302838e-01,  1.18556721e+00,  1.05393502e+00,\n",
       "         1.58046376e+00,  1.44883158e+00,  7.90670654e-01,\n",
       "         1.31719939e+00,  1.44883158e+00,  3.95774101e-01,\n",
       "         1.44883158e+00,  1.05393502e+00,  1.05393502e+00,\n",
       "         7.90670654e-01,  1.18556721e+00,  7.90670654e-01,\n",
       "         7.90670654e-01,  7.90670654e-01,  1.18556721e+00,\n",
       "         5.27406285e-01,  9.22302838e-01,  1.05393502e+00,\n",
       "         1.31719939e+00,  3.95774101e-01,  2.64141916e-01,\n",
       "         1.44883158e+00,  1.58046376e+00,  7.90670654e-01,\n",
       "         7.90670654e-01,  1.18556721e+00,  1.58046376e+00,\n",
       "         1.44883158e+00,  9.22302838e-01,  1.44883158e+00,\n",
       "         1.71209594e+00,  1.44883158e+00,  9.22302838e-01,\n",
       "         1.05393502e+00,  1.44883158e+00,  7.90670654e-01],\n",
       "       [ 1.00000000e+00,  1.00000000e+00,  1.00000000e+00,\n",
       "         1.00000000e+00,  1.00000000e+00,  1.00000000e+00,\n",
       "         1.00000000e+00,  1.00000000e+00,  1.00000000e+00,\n",
       "         1.00000000e+00,  1.00000000e+00,  1.00000000e+00,\n",
       "         1.00000000e+00,  1.00000000e+00,  1.00000000e+00,\n",
       "         1.00000000e+00,  1.00000000e+00,  1.00000000e+00,\n",
       "         1.00000000e+00,  1.00000000e+00,  1.00000000e+00,\n",
       "         1.00000000e+00,  1.00000000e+00,  1.00000000e+00,\n",
       "         1.00000000e+00,  1.00000000e+00,  1.00000000e+00,\n",
       "         1.00000000e+00,  1.00000000e+00,  1.00000000e+00,\n",
       "         1.00000000e+00,  1.00000000e+00,  1.00000000e+00,\n",
       "         1.00000000e+00,  1.00000000e+00,  1.00000000e+00,\n",
       "         1.00000000e+00,  1.00000000e+00,  1.00000000e+00,\n",
       "         1.00000000e+00,  1.00000000e+00,  1.00000000e+00,\n",
       "         1.00000000e+00,  1.00000000e+00,  1.00000000e+00,\n",
       "         1.00000000e+00,  1.00000000e+00,  1.00000000e+00,\n",
       "         1.00000000e+00,  1.00000000e+00,  1.00000000e+00,\n",
       "         1.00000000e+00,  1.00000000e+00,  1.00000000e+00,\n",
       "         1.00000000e+00,  1.00000000e+00,  1.00000000e+00,\n",
       "         1.00000000e+00,  1.00000000e+00,  1.00000000e+00,\n",
       "         1.00000000e+00,  1.00000000e+00,  1.00000000e+00,\n",
       "         1.00000000e+00,  1.00000000e+00,  1.00000000e+00,\n",
       "         1.00000000e+00,  1.00000000e+00,  1.00000000e+00,\n",
       "         1.00000000e+00,  1.00000000e+00,  1.00000000e+00,\n",
       "         1.00000000e+00,  1.00000000e+00,  1.00000000e+00,\n",
       "         1.00000000e+00,  1.00000000e+00,  1.00000000e+00,\n",
       "         1.00000000e+00,  1.00000000e+00,  1.00000000e+00,\n",
       "         1.00000000e+00,  1.00000000e+00,  1.00000000e+00,\n",
       "         1.00000000e+00,  1.00000000e+00,  1.00000000e+00,\n",
       "         1.00000000e+00,  1.00000000e+00,  1.00000000e+00,\n",
       "         1.00000000e+00,  1.00000000e+00,  1.00000000e+00,\n",
       "         1.00000000e+00,  1.00000000e+00,  1.00000000e+00,\n",
       "         1.00000000e+00,  1.00000000e+00,  1.00000000e+00,\n",
       "         1.00000000e+00,  1.00000000e+00,  1.00000000e+00,\n",
       "         1.00000000e+00,  1.00000000e+00,  1.00000000e+00,\n",
       "         1.00000000e+00,  1.00000000e+00,  1.00000000e+00,\n",
       "         1.00000000e+00,  1.00000000e+00,  1.00000000e+00,\n",
       "         1.00000000e+00,  1.00000000e+00,  1.00000000e+00,\n",
       "         1.00000000e+00,  1.00000000e+00,  1.00000000e+00,\n",
       "         1.00000000e+00,  1.00000000e+00,  1.00000000e+00,\n",
       "         1.00000000e+00,  1.00000000e+00,  1.00000000e+00,\n",
       "         1.00000000e+00,  1.00000000e+00,  1.00000000e+00,\n",
       "         1.00000000e+00,  1.00000000e+00,  1.00000000e+00,\n",
       "         1.00000000e+00,  1.00000000e+00,  1.00000000e+00,\n",
       "         1.00000000e+00,  1.00000000e+00,  1.00000000e+00,\n",
       "         1.00000000e+00,  1.00000000e+00,  1.00000000e+00,\n",
       "         1.00000000e+00,  1.00000000e+00,  1.00000000e+00,\n",
       "         1.00000000e+00,  1.00000000e+00,  1.00000000e+00,\n",
       "         1.00000000e+00,  1.00000000e+00,  1.00000000e+00,\n",
       "         1.00000000e+00,  1.00000000e+00,  1.00000000e+00]])"
      ]
     },
     "execution_count": 15,
     "metadata": {},
     "output_type": "execute_result"
    }
   ],
   "source": [
    "#Xt: transpose matrix X\n",
    "Xt=np.array(fv).transpose()\n",
    "Xt"
   ]
  },
  {
   "cell_type": "code",
   "execution_count": 16,
   "metadata": {},
   "outputs": [
    {
     "data": {
      "text/plain": [
       "array([[ 1.50000000e+02,  1.44429815e+02, -1.27897692e-13],\n",
       "       [ 1.44429815e+02,  1.50000000e+02, -6.39488462e-14],\n",
       "       [-1.27897692e-13, -6.39488462e-14,  1.50000000e+02]])"
      ]
     },
     "execution_count": 16,
     "metadata": {},
     "output_type": "execute_result"
    }
   ],
   "source": [
    "#XtX: matrix multiplication\n",
    "XtX=np.matmul(Xt,fv)\n",
    "XtX"
   ]
  },
  {
   "cell_type": "code",
   "execution_count": 17,
   "metadata": {},
   "outputs": [
    {
     "data": {
      "text/plain": [
       "array([[ 9.14618184e-02, -8.80654232e-02,  4.04404887e-17],\n",
       "       [-8.80654232e-02,  9.14618184e-02, -3.60965777e-17],\n",
       "       [ 4.04404887e-17, -3.60965777e-17,  6.66666667e-03]])"
      ]
     },
     "execution_count": 17,
     "metadata": {},
     "output_type": "execute_result"
    }
   ],
   "source": [
    "#XtX_inv: inverse of XtX\n",
    "XtX_inv=np.linalg.inv(XtX)\n",
    "XtX_inv"
   ]
  },
  {
   "cell_type": "code",
   "execution_count": 18,
   "metadata": {},
   "outputs": [
    {
     "data": {
      "text/plain": [
       "array([[ 1.00000000e+00, -1.23906478e-15,  1.93517441e-30],\n",
       "       [ 9.06717178e-16,  1.00000000e+00, -1.68865538e-30],\n",
       "       [-2.83496888e-31,  5.54667824e-32,  1.00000000e+00]])"
      ]
     },
     "execution_count": 18,
     "metadata": {},
     "output_type": "execute_result"
    }
   ],
   "source": [
    "np.matmul(XtX_inv,XtX)"
   ]
  },
  {
   "cell_type": "code",
   "execution_count": 19,
   "metadata": {},
   "outputs": [
    {
     "data": {
      "text/plain": [
       "array([ 65.2493661 ,  62.74467451, 100.        ])"
      ]
     },
     "execution_count": 19,
     "metadata": {},
     "output_type": "execute_result"
    }
   ],
   "source": [
    "Xfin=Xt.dot(t)\n",
    "Xfin"
   ]
  },
  {
   "cell_type": "code",
   "execution_count": 20,
   "metadata": {},
   "outputs": [
    {
     "data": {
      "text/plain": [
       "array([ 0.44218936, -0.00747102,  0.66666667])"
      ]
     },
     "execution_count": 20,
     "metadata": {},
     "output_type": "execute_result"
    }
   ],
   "source": [
    "w= np.matmul(XtX_inv,Xfin)\n",
    "w=XtX_inv.dot(Xfin)\n",
    "w"
   ]
  },
  {
   "cell_type": "code",
   "execution_count": 23,
   "metadata": {},
   "outputs": [
    {
     "ename": "TypeError",
     "evalue": "list.remove() takes exactly one argument (0 given)",
     "output_type": "error",
     "traceback": [
      "\u001b[1;31m---------------------------------------------------------------------------\u001b[0m",
      "\u001b[1;31mTypeError\u001b[0m                                 Traceback (most recent call last)",
      "Cell \u001b[1;32mIn[23], line 6\u001b[0m\n\u001b[0;32m      4\u001b[0m     res\u001b[38;5;241m=\u001b[39mw\u001b[38;5;241m.\u001b[39mdot(fv[x])\n\u001b[0;32m      5\u001b[0m     \u001b[38;5;28;01mif\u001b[39;00m ((res\u001b[38;5;241m<\u001b[39m\u001b[38;5;241m0.5\u001b[39m) \u001b[38;5;129;01mand\u001b[39;00m (t[x]\u001b[38;5;241m!=\u001b[39m\u001b[38;5;241m0\u001b[39m)) \u001b[38;5;129;01mor\u001b[39;00m ((res\u001b[38;5;241m>\u001b[39m\u001b[38;5;241m=\u001b[39m\u001b[38;5;241m0.5\u001b[39m) \u001b[38;5;129;01mand\u001b[39;00m (t[x]\u001b[38;5;241m!=\u001b[39m\u001b[38;5;241m1\u001b[39m)):\n\u001b[1;32m----> 6\u001b[0m         \u001b[43mfv\u001b[49m\u001b[43m[\u001b[49m\u001b[43mx\u001b[49m\u001b[43m]\u001b[49m\u001b[38;5;241;43m.\u001b[39;49m\u001b[43mremove\u001b[49m\u001b[43m(\u001b[49m\u001b[43m)\u001b[49m\n\u001b[0;32m      7\u001b[0m         \u001b[38;5;66;03m# misclassed+=1\u001b[39;00m\n\u001b[0;32m      8\u001b[0m misclassed\n",
      "\u001b[1;31mTypeError\u001b[0m: list.remove() takes exactly one argument (0 given)"
     ]
    }
   ],
   "source": [
    "misclassed=0\n",
    "for x in range(len(fv)):\n",
    "    # first class <= 0.5, second class >= 0.5\n",
    "    res=w.dot(fv[x])\n",
    "    if ((res<0.5) and (t[x]!=0)) or ((res>=0.5) and (t[x]!=1)):\n",
    "        misclassed+=1\n",
    "misclassed"
   ]
  },
  {
   "cell_type": "code",
   "execution_count": 22,
   "metadata": {},
   "outputs": [
    {
     "data": {
      "image/png": "[encoded data removed]",
      "text/plain": [
       "<Figure size 400x400 with 1 Axes>"
      ]
     },
     "metadata": {},
     "output_type": "display_data"
    }
   ],
   "source": [
    "\n",
    "# plot \n",
    "if len(needed_features)==3:\n",
    "    plt.figure(figsize=(4,4))\n",
    "    ax=plt.axes()\n",
    "\n",
    "    # 2d\n",
    "    x=np.linspace(-9, 9, 1000)\n",
    "    # function\n",
    "    plt.plot(x,-1*(w[0]*x + w[2])/w[1])\n",
    "\n",
    "    \n",
    "    c1_start=(target[0]-1)*class_size\n",
    "    c1_stop=c1_start+class_size\n",
    "    c1_plot=[x for x in fv[c1_start:c1_stop]]\n",
    "    for point in c1_plot:\n",
    "        ax.scatter(point[0],point[1],color='green')\n",
    "\n",
    "    c2_start=(target[1]-1)*class_size\n",
    "    c2_stop=c2_start+class_size\n",
    "    c2_plot=[x for x in fv[c2_start:c2_stop]]\n",
    "    for point in c2_plot:\n",
    "        ax.scatter(point[0],point[1],color='red')\n",
    "\n",
    "\n",
    "    c3_start=(target[2]-1)*class_size\n",
    "    c3_stop=c3_start+class_size\n",
    "    c3_plot=[x for x in fv[c3_start:c3_stop]]\n",
    "    for point in c3_plot:\n",
    "        ax.scatter(point[0],point[1],color='orange')\n",
    "\n",
    "    ax.scatter(fv[98][0],fv[98][1],color='blue')\n",
    "\n",
    "# function to show the plot\n",
    "    plt.ylim(-3,5)\n",
    "    plt.xlim(-3,5)\n",
    "    plt.show()"
   ]
  }
 ],
 "metadata": {
  "kernelspec": {
   "display_name": "Python 3",
   "language": "python",
   "name": "python3"
  },
  "language_info": {
   "codemirror_mode": {
    "name": "ipython",
    "version": 3
   },
   "file_extension": ".py",
   "mimetype": "text/x-python",
   "name": "python",
   "nbconvert_exporter": "python",
   "pygments_lexer": "ipython3",
   "version": "3.12.1"
  }
 },
 "nbformat": 4,
 "nbformat_minor": 2
}
