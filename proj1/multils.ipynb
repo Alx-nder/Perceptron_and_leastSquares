{
 "cells": [
  {
   "cell_type": "code",
   "execution_count": null,
   "metadata": {},
   "outputs": [],
   "source": []
  },
  {
   "cell_type": "code",
   "execution_count": 14,
   "metadata": {},
   "outputs": [
    {
     "name": "stderr",
     "output_type": "stream",
     "text": [
      "C:\\Users\\Tyreek ALEXANDER\\AppData\\Local\\Temp\\ipykernel_21540\\2782364156.py:6: FutureWarning: Series.__getitem__ treating keys as positions is deprecated. In a future version, integer keys will always be treated as labels (consistent with DataFrame behavior). To access a value by position, use `ser.iloc[pos]`\n",
      "  t1=[[1,0,0]]*df.species.value_counts()[0]\n",
      "C:\\Users\\Tyreek ALEXANDER\\AppData\\Local\\Temp\\ipykernel_21540\\2782364156.py:7: FutureWarning: Series.__getitem__ treating keys as positions is deprecated. In a future version, integer keys will always be treated as labels (consistent with DataFrame behavior). To access a value by position, use `ser.iloc[pos]`\n",
      "  t2=[[0,1,0]]*df.species.value_counts()[1]\n",
      "C:\\Users\\Tyreek ALEXANDER\\AppData\\Local\\Temp\\ipykernel_21540\\2782364156.py:8: FutureWarning: Series.__getitem__ treating keys as positions is deprecated. In a future version, integer keys will always be treated as labels (consistent with DataFrame behavior). To access a value by position, use `ser.iloc[pos]`\n",
      "  t3=[[0,0,1]]*df.species.value_counts()[2]\n"
     ]
    },
    {
     "data": {
      "text/plain": [
       "array([[ 0.06602977, -0.02015368, -0.04587608],\n",
       "       [ 0.24284787, -0.44561626,  0.20276839],\n",
       "       [-0.22465712,  0.22066921,  0.00398791],\n",
       "       [-0.05747273, -0.4943066 ,  0.55177932],\n",
       "       [ 0.11822289,  1.57705897, -0.69528186]])"
      ]
     },
     "execution_count": 14,
     "metadata": {},
     "output_type": "execute_result"
    }
   ],
   "source": [
    "import numpy as np\n",
    "import pandas as pd\n",
    "\n",
    "df=pd.read_excel(\"Proj1DataSet.xlsx\")\n",
    "\n",
    "t1=[[1,0,0]]*df.species.value_counts()[0]\n",
    "t2=[[0,1,0]]*df.species.value_counts()[1]\n",
    "t3=[[0,0,1]]*df.species.value_counts()[2]\n",
    "T=t1+t2+t3\n",
    "\n",
    "# add offset and drop species\n",
    "df=df.assign(offset=[1]*df.shape[0])\n",
    "df.drop(columns='species',inplace=True)\n",
    "\n",
    "\n",
    "fv=df.values.tolist()\n",
    "\n",
    "\n",
    "#Xt: transpose matrix X\n",
    "Xt=np.array(fv).transpose()\n",
    "#XtX: matrix multiplication\n",
    "XtX=np.matmul(Xt,fv)\n",
    "\n",
    "#XtX_inv: inverse of XtX\n",
    "XtX_inv=np.linalg.inv(XtX)\n",
    "\n",
    "#Xfin (XtX)**-1 multiplied by Xt\n",
    "Xfin= np.matmul(XtX_inv,Xt)\n",
    "\n",
    "\n",
    "# w=Xfin.dot(t)\n",
    "W=np.matmul(Xfin,T)\n",
    "# print(w)\n",
    "# test\n",
    "W\n",
    "# print(W.dot(fv[0]))\n"
   ]
  }
 ],
 "metadata": {
  "kernelspec": {
   "display_name": "Python 3",
   "language": "python",
   "name": "python3"
  },
  "language_info": {
   "codemirror_mode": {
    "name": "ipython",
    "version": 3
   },
   "file_extension": ".py",
   "mimetype": "text/x-python",
   "name": "python",
   "nbconvert_exporter": "python",
   "pygments_lexer": "ipython3",
   "version": "3.12.1"
  }
 },
 "nbformat": 4,
 "nbformat_minor": 2
}
