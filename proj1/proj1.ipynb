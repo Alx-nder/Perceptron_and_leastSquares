{
 "cells": [
  {
   "cell_type": "code",
   "execution_count": 1,
   "metadata": {},
   "outputs": [],
   "source": [
    "import pandas as pd"
   ]
  },
  {
   "cell_type": "code",
   "execution_count": 2,
   "metadata": {},
   "outputs": [],
   "source": [
    "df=pd.read_excel(\"Proj1DataSet.xlsx\")"
   ]
  },
  {
   "cell_type": "code",
   "execution_count": 3,
   "metadata": {},
   "outputs": [
    {
     "data": {
      "text/plain": [
       "species\n",
       "setosa        50\n",
       "versicolor    50\n",
       "virginica     50\n",
       "Name: count, dtype: int64"
      ]
     },
     "execution_count": 3,
     "metadata": {},
     "output_type": "execute_result"
    }
   ],
   "source": [
    "df.species.value_counts()"
   ]
  },
  {
   "cell_type": "code",
   "execution_count": 16,
   "metadata": {},
   "outputs": [],
   "source": [
    "feature_names=df.columns\n",
    "class_names=df.species.unique()\n",
    "\n",
    "pj={}\n",
    "\n",
    "for c in class_names:\n",
    "    x=df.loc[df['species'] == c].shape[0]\n",
    "    pj[c]=(x/df.shape[0])\n"
   ]
  },
  {
   "cell_type": "code",
   "execution_count": 5,
   "metadata": {},
   "outputs": [],
   "source": [
    "# class separation\n",
    "classes={}\n",
    "for specie in df.species.unique():\n",
    "        classes[specie]=df.loc[df.species == specie]"
   ]
  },
  {
   "cell_type": "code",
   "execution_count": 17,
   "metadata": {},
   "outputs": [],
   "source": [
    "# within class variance\n",
    "# variance of i-th feature in class j\n",
    "sw=[0]* (len(feature_names)-1)\n",
    "for i in range(len(feature_names)-1):\n",
    "    for j in class_names:\n",
    "        # separate classes\n",
    "        class_df=df.loc[df.species == j]\n",
    "\n",
    "        # feature variance in class c\n",
    "        ro_ji=class_df[feature_names[i]].var()\n",
    "        \n",
    "        # sum ro for feature i in all classes\n",
    "        sw[i]+=pj[j]*ro_ji    "
   ]
  },
  {
   "cell_type": "code",
   "execution_count": 18,
   "metadata": {},
   "outputs": [],
   "source": [
    "# between class variance\n",
    "sb=[0]* (len(feature_names)-1)\n",
    "for i in range(len(feature_names)-1):\n",
    "    for j in class_names:\n",
    "        # separate classes\n",
    "        class_df=df.loc[df.species == j]\n",
    "\n",
    "        # feature variance in class c\n",
    "        u_ji=class_df[feature_names[i]].mean()\n",
    "        \n",
    "        # sum ro for feature i in all classes\n",
    "        sb[i]+=(pj[j]* (u_ji - df[feature_names[i]].mean()) )**2  "
   ]
  },
  {
   "cell_type": "code",
   "execution_count": 23,
   "metadata": {},
   "outputs": [
    {
     "name": "stdout",
     "output_type": "stream",
     "text": [
      "Sepal Length min= 4.3\n",
      "Sepal Length max= 7.9\n",
      "Sepal Length mean= 5.843333333333334\n",
      "Sepal Length variance= 0.6856935123042507\n",
      "Sepal Length within class variance= 0.2650081632653062\n",
      "Sepal Length between class variance= 0.14047140740740707\n"
     ]
    }
   ],
   "source": [
    "print(\"Sepal Length min=\",df.meas_1.min())\n",
    "print(\"Sepal Length max=\",df.meas_1.max())\n",
    "print(\"Sepal Length mean=\",df.meas_1.mean())\n",
    "print(\"Sepal Length variance=\",df.meas_1.var())\n",
    "print(\"Sepal Length within class variance=\",sw[0])\n",
    "print(\"Sepal Length between class variance=\",sb[0])\n"
   ]
  },
  {
   "cell_type": "code",
   "execution_count": 22,
   "metadata": {},
   "outputs": [
    {
     "name": "stdout",
     "output_type": "stream",
     "text": [
      "Sepal Width min= 2.0\n",
      "Sepal Width max= 4.4\n",
      "Sepal Width mean= 3.0573333333333337\n",
      "Sepal Width variance= 0.189979418344519\n",
      "Sepal width within class variance= 0.11538775510204083\n",
      "Sepal width between class variance= 0.025210962962962925\n"
     ]
    }
   ],
   "source": [
    "print(\"Sepal Width min=\",df.meas_2.min())\n",
    "print(\"Sepal Width max=\",df.meas_2.max())\n",
    "print(\"Sepal Width mean=\",df.meas_2.mean())\n",
    "print(\"Sepal Width variance=\",df.meas_2.var())\n",
    "print(\"Sepal width within class variance=\",sw[1])\n",
    "print(\"Sepal width between class variance=\",sb[1])\n"
   ]
  },
  {
   "cell_type": "code",
   "execution_count": 21,
   "metadata": {},
   "outputs": [
    {
     "name": "stdout",
     "output_type": "stream",
     "text": [
      "Petal Length min= 1.0\n",
      "Petal Length max= 6.9\n",
      "Petal Length mean= 3.7580000000000005\n",
      "Petal Length variance= 3.116277852348993\n",
      "Petal Length within class variance= 0.18518775510204083\n",
      "Petal Length between class variance= 0.9713395555555555\n"
     ]
    }
   ],
   "source": [
    "print(\"Petal Length min=\",df.meas_3.min())\n",
    "print(\"Petal Length max=\",df.meas_3.max())\n",
    "print(\"Petal Length mean=\",df.meas_3.mean())\n",
    "print(\"Petal Length variance=\",df.meas_3.var())\n",
    "print(\"Petal Length within class variance=\",sw[2])\n",
    "print(\"Petal Length between class variance=\",sb[2])\n"
   ]
  },
  {
   "cell_type": "code",
   "execution_count": 20,
   "metadata": {},
   "outputs": [
    {
     "name": "stdout",
     "output_type": "stream",
     "text": [
      "Petal Width min= 0.1\n",
      "Petal Width max= 2.5\n",
      "Petal Width mean= 1.1993333333333336\n",
      "Petal Width variance= 0.5810062639821029\n",
      "Petal Width within class variance= 0.04188163265306122\n",
      "Petal Width between class variance= 0.17869629629629633\n"
     ]
    }
   ],
   "source": [
    "print(\"Petal Width min=\",df.meas_4.min())\n",
    "print(\"Petal Width max=\",df.meas_4.max())\n",
    "print(\"Petal Width mean=\",df.meas_4.mean())\n",
    "print(\"Petal Width variance=\",df.meas_4.var())\n",
    "print(\"Petal Width within class variance=\",sw[3])\n",
    "print(\"Petal Width between class variance=\",sb[3])\n"
   ]
  },
  {
   "cell_type": "code",
   "execution_count": null,
   "metadata": {},
   "outputs": [
    {
     "name": "stderr",
     "output_type": "stream",
     "text": [
      "C:\\Users\\Tyreek ALEXANDER\\AppData\\Local\\Temp\\ipykernel_9260\\893061707.py:1: FutureWarning: Downcasting behavior in `replace` is deprecated and will be removed in a future version. To retain the old behavior, explicitly call `result.infer_objects(copy=False)`. To opt-in to the future behavior, set `pd.set_option('future.no_silent_downcasting', True)`\n",
      "  df=df.assign(species=df.species.replace({'setosa':1,'versicolor':2,'virginica':3}))\n"
     ]
    }
   ],
   "source": [
    "df=df.assign(species=df.species.replace({'setosa':1,'versicolor':2,'virginica':3}))"
   ]
  },
  {
   "cell_type": "code",
   "execution_count": null,
   "metadata": {},
   "outputs": [
    {
     "data": {
      "text/html": [
       "<style type=\"text/css\">\n",
       "#T_e1ef6 thead tr th:nth-child(1) {\n",
       "  position: sticky;\n",
       "  background-color: inherit;\n",
       "  left: 0px;\n",
       "  z-index: 3 !important;\n",
       "}\n",
       "#T_e1ef6 tbody tr th:nth-child(1) {\n",
       "  position: sticky;\n",
       "  background-color: inherit;\n",
       "  left: 0px;\n",
       "  z-index: 1;\n",
       "}\n",
       "#T_e1ef6_row0_col0, #T_e1ef6_row1_col1, #T_e1ef6_row2_col2, #T_e1ef6_row3_col3, #T_e1ef6_row4_col4 {\n",
       "  background-color: #67001f;\n",
       "  color: #f1f1f1;\n",
       "}\n",
       "#T_e1ef6_row0_col1 {\n",
       "  background-color: #3f8ec0;\n",
       "  color: #f1f1f1;\n",
       "}\n",
       "#T_e1ef6_row0_col2 {\n",
       "  background-color: #ab162a;\n",
       "  color: #f1f1f1;\n",
       "}\n",
       "#T_e1ef6_row0_col3 {\n",
       "  background-color: #bb2a34;\n",
       "  color: #f1f1f1;\n",
       "}\n",
       "#T_e1ef6_row0_col4 {\n",
       "  background-color: #bf3338;\n",
       "  color: #f1f1f1;\n",
       "}\n",
       "#T_e1ef6_row1_col0, #T_e1ef6_row1_col2, #T_e1ef6_row1_col3, #T_e1ef6_row1_col4, #T_e1ef6_row4_col1 {\n",
       "  background-color: #053061;\n",
       "  color: #f1f1f1;\n",
       "}\n",
       "#T_e1ef6_row2_col0 {\n",
       "  background-color: #b1182b;\n",
       "  color: #f1f1f1;\n",
       "}\n",
       "#T_e1ef6_row2_col1 {\n",
       "  background-color: #1e61a5;\n",
       "  color: #f1f1f1;\n",
       "}\n",
       "#T_e1ef6_row2_col3, #T_e1ef6_row3_col2, #T_e1ef6_row4_col2, #T_e1ef6_row4_col3 {\n",
       "  background-color: #8a0b25;\n",
       "  color: #f1f1f1;\n",
       "}\n",
       "#T_e1ef6_row2_col4 {\n",
       "  background-color: #870a24;\n",
       "  color: #f1f1f1;\n",
       "}\n",
       "#T_e1ef6_row3_col0 {\n",
       "  background-color: #c13639;\n",
       "  color: #f1f1f1;\n",
       "}\n",
       "#T_e1ef6_row3_col1 {\n",
       "  background-color: #2267ac;\n",
       "  color: #f1f1f1;\n",
       "}\n",
       "#T_e1ef6_row3_col4 {\n",
       "  background-color: #840924;\n",
       "  color: #f1f1f1;\n",
       "}\n",
       "#T_e1ef6_row4_col0 {\n",
       "  background-color: #cc4c44;\n",
       "  color: #f1f1f1;\n",
       "}\n",
       "</style>\n",
       "<table id=\"T_e1ef6\">\n",
       "  <thead>\n",
       "    <tr>\n",
       "      <th class=\"blank level0\" >&nbsp;</th>\n",
       "      <th id=\"T_e1ef6_level0_col0\" class=\"col_heading level0 col0\" >meas_1</th>\n",
       "      <th id=\"T_e1ef6_level0_col1\" class=\"col_heading level0 col1\" >meas_2</th>\n",
       "      <th id=\"T_e1ef6_level0_col2\" class=\"col_heading level0 col2\" >meas_3</th>\n",
       "      <th id=\"T_e1ef6_level0_col3\" class=\"col_heading level0 col3\" >meas_4</th>\n",
       "      <th id=\"T_e1ef6_level0_col4\" class=\"col_heading level0 col4\" >species</th>\n",
       "    </tr>\n",
       "  </thead>\n",
       "  <tbody>\n",
       "    <tr>\n",
       "      <th id=\"T_e1ef6_level0_row0\" class=\"row_heading level0 row0\" >meas_1</th>\n",
       "      <td id=\"T_e1ef6_row0_col0\" class=\"data row0 col0\" >1.000000</td>\n",
       "      <td id=\"T_e1ef6_row0_col1\" class=\"data row0 col1\" >-0.166778</td>\n",
       "      <td id=\"T_e1ef6_row0_col2\" class=\"data row0 col2\" >0.881898</td>\n",
       "      <td id=\"T_e1ef6_row0_col3\" class=\"data row0 col3\" >0.834289</td>\n",
       "      <td id=\"T_e1ef6_row0_col4\" class=\"data row0 col4\" >0.798078</td>\n",
       "    </tr>\n",
       "    <tr>\n",
       "      <th id=\"T_e1ef6_level0_row1\" class=\"row_heading level0 row1\" >meas_2</th>\n",
       "      <td id=\"T_e1ef6_row1_col0\" class=\"data row1 col0\" >-0.166778</td>\n",
       "      <td id=\"T_e1ef6_row1_col1\" class=\"data row1 col1\" >1.000000</td>\n",
       "      <td id=\"T_e1ef6_row1_col2\" class=\"data row1 col2\" >-0.309635</td>\n",
       "      <td id=\"T_e1ef6_row1_col3\" class=\"data row1 col3\" >-0.289032</td>\n",
       "      <td id=\"T_e1ef6_row1_col4\" class=\"data row1 col4\" >-0.440290</td>\n",
       "    </tr>\n",
       "    <tr>\n",
       "      <th id=\"T_e1ef6_level0_row2\" class=\"row_heading level0 row2\" >meas_3</th>\n",
       "      <td id=\"T_e1ef6_row2_col0\" class=\"data row2 col0\" >0.881898</td>\n",
       "      <td id=\"T_e1ef6_row2_col1\" class=\"data row2 col1\" >-0.309635</td>\n",
       "      <td id=\"T_e1ef6_row2_col2\" class=\"data row2 col2\" >1.000000</td>\n",
       "      <td id=\"T_e1ef6_row2_col3\" class=\"data row2 col3\" >0.937667</td>\n",
       "      <td id=\"T_e1ef6_row2_col4\" class=\"data row2 col4\" >0.935431</td>\n",
       "    </tr>\n",
       "    <tr>\n",
       "      <th id=\"T_e1ef6_level0_row3\" class=\"row_heading level0 row3\" >meas_4</th>\n",
       "      <td id=\"T_e1ef6_row3_col0\" class=\"data row3 col0\" >0.834289</td>\n",
       "      <td id=\"T_e1ef6_row3_col1\" class=\"data row3 col1\" >-0.289032</td>\n",
       "      <td id=\"T_e1ef6_row3_col2\" class=\"data row3 col2\" >0.937667</td>\n",
       "      <td id=\"T_e1ef6_row3_col3\" class=\"data row3 col3\" >1.000000</td>\n",
       "      <td id=\"T_e1ef6_row3_col4\" class=\"data row3 col4\" >0.938179</td>\n",
       "    </tr>\n",
       "    <tr>\n",
       "      <th id=\"T_e1ef6_level0_row4\" class=\"row_heading level0 row4\" >species</th>\n",
       "      <td id=\"T_e1ef6_row4_col0\" class=\"data row4 col0\" >0.798078</td>\n",
       "      <td id=\"T_e1ef6_row4_col1\" class=\"data row4 col1\" >-0.440290</td>\n",
       "      <td id=\"T_e1ef6_row4_col2\" class=\"data row4 col2\" >0.935431</td>\n",
       "      <td id=\"T_e1ef6_row4_col3\" class=\"data row4 col3\" >0.938179</td>\n",
       "      <td id=\"T_e1ef6_row4_col4\" class=\"data row4 col4\" >1.000000</td>\n",
       "    </tr>\n",
       "  </tbody>\n",
       "</table>\n"
      ],
      "text/plain": [
       "<pandas.io.formats.style.Styler at 0x1a85fc89d90>"
      ]
     },
     "execution_count": 10,
     "metadata": {},
     "output_type": "execute_result"
    }
   ],
   "source": [
    "(df\n",
    " .corr(method='spearman')\n",
    " .style\n",
    " .background_gradient(cmap='RdBu_r')\n",
    " .set_sticky(axis='index')\n",
    ")"
   ]
  }
 ],
 "metadata": {
  "kernelspec": {
   "display_name": "Python 3",
   "language": "python",
   "name": "python3"
  },
  "language_info": {
   "codemirror_mode": {
    "name": "ipython",
    "version": 3
   },
   "file_extension": ".py",
   "mimetype": "text/x-python",
   "name": "python",
   "nbconvert_exporter": "python",
   "pygments_lexer": "ipython3",
   "version": "3.12.1"
  }
 },
 "nbformat": 4,
 "nbformat_minor": 2
}
